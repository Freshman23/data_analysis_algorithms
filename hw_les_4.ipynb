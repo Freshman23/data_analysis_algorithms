{
 "cells": [
  {
   "cell_type": "markdown",
   "id": "00b78de6",
   "metadata": {},
   "source": [
    "### Задание №1.\n",
    "В коде из методички реализуйте один или несколько критериев останова: минимальное количество объектов в листе (min_leaf), максимальная глубина дерева, максимальное количество листьев и т.д. Добавьте эти критерии в параметры функции build_tree и проверьте ее работоспособность."
   ]
  },
  {
   "cell_type": "code",
   "execution_count": 1,
   "id": "713a644d",
   "metadata": {},
   "outputs": [],
   "source": [
    "import numpy as np\n",
    "from sklearn import datasets\n",
    "from sklearn.model_selection import train_test_split"
   ]
  },
  {
   "cell_type": "code",
   "execution_count": 2,
   "id": "2e27623e",
   "metadata": {},
   "outputs": [],
   "source": [
    "class Node:\n",
    "    \n",
    "    def __init__(self, index, t, true_branch, false_branch):\n",
    "        self.index = index\n",
    "        self.t = t\n",
    "        self.true_branch = true_branch\n",
    "        self.false_branch = false_branch"
   ]
  },
  {
   "cell_type": "code",
   "execution_count": 3,
   "id": "ee13b022",
   "metadata": {},
   "outputs": [],
   "source": [
    "class Leaf:\n",
    "    \n",
    "    def __init__(self, data, labels):\n",
    "        self.data = data\n",
    "        self.labels = labels\n",
    "        self.classes = self.get_classes()\n",
    "        self.prediction = self.predict()\n",
    "    \n",
    "    def get_classes(self):\n",
    "        classes = {}\n",
    "        for label in self.labels:\n",
    "            if label not in classes:\n",
    "                classes[label] = 0\n",
    "            classes[label] += 1\n",
    "        return classes\n",
    "        \n",
    "    def predict(self):    \n",
    "        prediction = max(self.classes, key=self.classes.get)\n",
    "        return prediction"
   ]
  },
  {
   "cell_type": "code",
   "execution_count": 4,
   "id": "3928d4cb",
   "metadata": {},
   "outputs": [],
   "source": [
    "class ColorText:\n",
    "    PURPLE = '\\033[1;35;48m'\n",
    "    CYAN = '\\033[1;36;48m'\n",
    "    BOLD = '\\033[1;39;48m'\n",
    "    GREEN = '\\033[1;34;48m'\n",
    "    BLUE = '\\033[1;44;48m'\n",
    "    ORANGE = '\\033[1;32;48m'\n",
    "    YELLOW = '\\033[1;33;48m'\n",
    "    RED = '\\033[1;31;48m'\n",
    "    BLACK = '\\033[1;30;48m'\n",
    "    UNDERLINE = '\\033[1;37;48m'\n",
    "    END = '\\033[1;37;0m'"
   ]
  },
  {
   "cell_type": "code",
   "execution_count": 5,
   "id": "1162ce4e",
   "metadata": {},
   "outputs": [],
   "source": [
    "def get_inform_index(labels, type_index='gini'):\n",
    "    classes = {}\n",
    "    for label in labels:\n",
    "        if label not in classes:\n",
    "            classes[label] = 0\n",
    "        classes[label] += 1\n",
    "    \n",
    "    if type == 'gini':\n",
    "        impurity = 1\n",
    "        for label in classes:\n",
    "            p = classes[label] / len(labels)\n",
    "            impurity -= p ** 2\n",
    "    else:\n",
    "        impurity = 0\n",
    "        for label in classes:\n",
    "            p = classes[label] / len(labels)\n",
    "            impurity -= p * np.log2(p) \n",
    "        \n",
    "    return impurity"
   ]
  },
  {
   "cell_type": "code",
   "execution_count": 6,
   "id": "b9d1b704",
   "metadata": {},
   "outputs": [],
   "source": [
    "def quality(left_labels, right_labels, type_index, current_index):\n",
    "\n",
    "    p = float(left_labels.shape[0]) / (left_labels.shape[0] + right_labels.shape[0])\n",
    "    \n",
    "    return current_index - p * get_inform_index(left_labels, type_index) - (1 - p) * get_inform_index(right_labels, type_index)"
   ]
  },
  {
   "cell_type": "code",
   "execution_count": 7,
   "id": "cb8cc2f3",
   "metadata": {},
   "outputs": [],
   "source": [
    "def split(data, labels, index, t):\n",
    "    \n",
    "    left = np.where(data[:, index] <= t)\n",
    "    right = np.where(data[:, index] > t)\n",
    "        \n",
    "    true_data = data[left]\n",
    "    false_data = data[right]\n",
    "    true_labels = labels[left]\n",
    "    false_labels = labels[right]\n",
    "        \n",
    "    return true_data, false_data, true_labels, false_labels"
   ]
  },
  {
   "cell_type": "code",
   "execution_count": 8,
   "id": "2bd58e6a",
   "metadata": {},
   "outputs": [],
   "source": [
    "def find_best_split(data, labels, min_leaf, inform_index):\n",
    "    current_index = get_inform_index(labels, inform_index)\n",
    "\n",
    "    best_quality = 0\n",
    "    best_t = None\n",
    "    best_index = None\n",
    "    \n",
    "    n_features = data.shape[1]\n",
    "    \n",
    "    for index in range(n_features):\n",
    "        \n",
    "        t_values = np.unique([row[index] for row in data])\n",
    "        \n",
    "        for t in t_values:\n",
    "            true_data, false_data, true_labels, false_labels = split(data, labels, index, t)\n",
    "            \n",
    "            if len(true_data) < min_leaf or len(false_data) < min_leaf:\n",
    "                continue\n",
    "            \n",
    "            current_quality = quality(true_labels, false_labels, inform_index, current_index)\n",
    "            \n",
    "            if current_quality > best_quality:\n",
    "                best_quality, best_t, best_index = current_quality, t, index\n",
    "\n",
    "    return best_quality, best_t, best_index"
   ]
  },
  {
   "cell_type": "code",
   "execution_count": 9,
   "id": "612cc5f0",
   "metadata": {},
   "outputs": [],
   "source": [
    "def build_tree(data, labels, min_leaf=5, max_depth=None, inform_index='gini'):\n",
    "\n",
    "    quality, t, index = find_best_split(data, labels, min_leaf, inform_index)\n",
    "\n",
    "    if quality == 0 or max_depth == 0:\n",
    "        return Leaf(data, labels)\n",
    "\n",
    "    true_data, false_data, true_labels, false_labels = split(data, labels, index, t)\n",
    "\n",
    "    if max_depth:\n",
    "        true_branch = build_tree(true_data, true_labels, min_leaf, max_depth - 1)\n",
    "        false_branch = build_tree(false_data, false_labels, min_leaf, max_depth - 1)\n",
    "    else:\n",
    "        true_branch = build_tree(true_data, true_labels, min_leaf)\n",
    "        false_branch = build_tree(false_data, false_labels, min_leaf)\n",
    "        \n",
    "    return Node(index, t, true_branch, false_branch)"
   ]
  },
  {
   "cell_type": "code",
   "execution_count": 10,
   "id": "a902486e",
   "metadata": {},
   "outputs": [],
   "source": [
    "def classify_object(obj, node):\n",
    "\n",
    "    if isinstance(node, Leaf):\n",
    "        answer = node.prediction\n",
    "        return answer\n",
    "\n",
    "    if obj[node.index] <= node.t:\n",
    "        return classify_object(obj, node.true_branch)\n",
    "    else:\n",
    "        return classify_object(obj, node.false_branch)"
   ]
  },
  {
   "cell_type": "code",
   "execution_count": 11,
   "id": "011a3093",
   "metadata": {},
   "outputs": [],
   "source": [
    "def predict(data, tree):\n",
    "    \n",
    "    preds = []\n",
    "    for obj in data:\n",
    "        prediction = classify_object(obj, tree)\n",
    "        preds.append(prediction)\n",
    "    return np.array(preds)"
   ]
  },
  {
   "cell_type": "code",
   "execution_count": 12,
   "id": "14995ec5",
   "metadata": {},
   "outputs": [],
   "source": [
    "def accuracy_metric(real, pred):\n",
    "    return np.sum(real == pred) / real.shape[0]"
   ]
  },
  {
   "cell_type": "code",
   "execution_count": 13,
   "id": "74fc3209",
   "metadata": {},
   "outputs": [],
   "source": [
    "def print_tree(node, spacing=\"\"):\n",
    "\n",
    "    if isinstance(node, Leaf):\n",
    "        print(ColorText.ORANGE + spacing + ' ЛИСТ' \n",
    "                  + ': прогноз = ' + str(node.prediction) \n",
    "                  + ', объектов = ' + str(len(node.labels)) \n",
    "                  + ', классы: ' + str(node.classes)\n",
    "                  + ColorText.END)\n",
    "        return\n",
    "\n",
    "    print(ColorText.GREEN + spacing + 'УЗЕЛ'  \n",
    "              + ': индекс = ' + str(node.index) \n",
    "              + ', порог = ' + str(round(node.t, 2))\n",
    "              + ColorText.END)\n",
    "\n",
    "    print (spacing + '--> Левая ветка:')\n",
    "    print_tree(node.true_branch, spacing + \"   \")\n",
    "\n",
    "    print (spacing + '--> Правая ветка:')\n",
    "    print_tree(node.false_branch, spacing + \"   \")"
   ]
  },
  {
   "cell_type": "markdown",
   "id": "51e38204",
   "metadata": {},
   "source": [
    "Сгенерируем датасет с двумя информативными признаками и двумя классами из 1000 объектов: "
   ]
  },
  {
   "cell_type": "code",
   "execution_count": 14,
   "id": "e9addb7c",
   "metadata": {},
   "outputs": [],
   "source": [
    "classification_data, classification_labels = datasets.make_classification(n_samples=1000, \n",
    "                                                      n_features=2, n_informative=2, \n",
    "                                                      n_classes=2, n_redundant=0, \n",
    "                                                      n_clusters_per_class=1, \n",
    "                                                      random_state=5)"
   ]
  },
  {
   "cell_type": "code",
   "execution_count": 15,
   "id": "0f27bb04",
   "metadata": {},
   "outputs": [],
   "source": [
    "train_data, test_data, train_labels, test_labels = train_test_split(classification_data, \n",
    "                                                                    classification_labels, \n",
    "                                                                    test_size = 0.3,\n",
    "                                                                    random_state = 1)"
   ]
  },
  {
   "cell_type": "markdown",
   "id": "faa0c155",
   "metadata": {},
   "source": [
    "- Построим дерево решений для классификации объектов с минимальным количеством объектов в листе равным 10 без ограничения глубины дерева:"
   ]
  },
  {
   "cell_type": "code",
   "execution_count": 16,
   "id": "92f6085a",
   "metadata": {},
   "outputs": [],
   "source": [
    "my_tree = build_tree(train_data, train_labels, min_leaf=10)"
   ]
  },
  {
   "cell_type": "code",
   "execution_count": 17,
   "id": "32d22332",
   "metadata": {
    "scrolled": false
   },
   "outputs": [
    {
     "name": "stdout",
     "output_type": "stream",
     "text": [
      "\u001b[1;34;48mУЗЕЛ: индекс = 0, порог = -0.0\u001b[1;37;0m\n",
      "--> Левая ветка:\n",
      "\u001b[1;34;48m   УЗЕЛ: индекс = 1, порог = -1.4\u001b[1;37;0m\n",
      "   --> Левая ветка:\n",
      "\u001b[1;34;48m      УЗЕЛ: индекс = 1, порог = -1.66\u001b[1;37;0m\n",
      "      --> Левая ветка:\n",
      "\u001b[1;34;48m         УЗЕЛ: индекс = 0, порог = -0.8\u001b[1;37;0m\n",
      "         --> Левая ветка:\n",
      "\u001b[1;32;48m             ЛИСТ: прогноз = 0, объектов = 10, классы: {0: 7, 1: 3}\u001b[1;37;0m\n",
      "         --> Правая ветка:\n",
      "\u001b[1;32;48m             ЛИСТ: прогноз = 0, объектов = 52, классы: {0: 52}\u001b[1;37;0m\n",
      "      --> Правая ветка:\n",
      "\u001b[1;34;48m         УЗЕЛ: индекс = 0, порог = -0.69\u001b[1;37;0m\n",
      "         --> Левая ветка:\n",
      "\u001b[1;32;48m             ЛИСТ: прогноз = 0, объектов = 13, классы: {0: 13}\u001b[1;37;0m\n",
      "         --> Правая ветка:\n",
      "\u001b[1;34;48m            УЗЕЛ: индекс = 0, порог = -0.4\u001b[1;37;0m\n",
      "            --> Левая ветка:\n",
      "\u001b[1;34;48m               УЗЕЛ: индекс = 1, порог = -1.59\u001b[1;37;0m\n",
      "               --> Левая ветка:\n",
      "\u001b[1;32;48m                   ЛИСТ: прогноз = 1, объектов = 11, классы: {0: 3, 1: 8}\u001b[1;37;0m\n",
      "               --> Правая ветка:\n",
      "\u001b[1;32;48m                   ЛИСТ: прогноз = 0, объектов = 10, классы: {0: 8, 1: 2}\u001b[1;37;0m\n",
      "            --> Правая ветка:\n",
      "\u001b[1;34;48m               УЗЕЛ: индекс = 1, порог = -1.52\u001b[1;37;0m\n",
      "               --> Левая ветка:\n",
      "\u001b[1;32;48m                   ЛИСТ: прогноз = 1, объектов = 10, классы: {0: 3, 1: 7}\u001b[1;37;0m\n",
      "               --> Правая ветка:\n",
      "\u001b[1;32;48m                   ЛИСТ: прогноз = 1, объектов = 17, классы: {1: 16, 0: 1}\u001b[1;37;0m\n",
      "   --> Правая ветка:\n",
      "\u001b[1;32;48m       ЛИСТ: прогноз = 0, объектов = 211, классы: {0: 211}\u001b[1;37;0m\n",
      "--> Правая ветка:\n",
      "\u001b[1;34;48m   УЗЕЛ: индекс = 1, порог = -1.45\u001b[1;37;0m\n",
      "   --> Левая ветка:\n",
      "\u001b[1;32;48m       ЛИСТ: прогноз = 0, объектов = 37, классы: {0: 37}\u001b[1;37;0m\n",
      "   --> Правая ветка:\n",
      "\u001b[1;34;48m      УЗЕЛ: индекс = 0, порог = 1.2\u001b[1;37;0m\n",
      "      --> Левая ветка:\n",
      "\u001b[1;34;48m         УЗЕЛ: индекс = 1, порог = -0.95\u001b[1;37;0m\n",
      "         --> Левая ветка:\n",
      "\u001b[1;34;48m            УЗЕЛ: индекс = 1, порог = -1.06\u001b[1;37;0m\n",
      "            --> Левая ветка:\n",
      "\u001b[1;32;48m                ЛИСТ: прогноз = 1, объектов = 119, классы: {1: 119}\u001b[1;37;0m\n",
      "            --> Правая ветка:\n",
      "\u001b[1;34;48m               УЗЕЛ: индекс = 0, порог = 0.89\u001b[1;37;0m\n",
      "               --> Левая ветка:\n",
      "\u001b[1;32;48m                   ЛИСТ: прогноз = 1, объектов = 10, классы: {0: 1, 1: 9}\u001b[1;37;0m\n",
      "               --> Правая ветка:\n",
      "\u001b[1;32;48m                   ЛИСТ: прогноз = 1, объектов = 45, классы: {1: 45}\u001b[1;37;0m\n",
      "         --> Правая ветка:\n",
      "\u001b[1;32;48m             ЛИСТ: прогноз = 1, объектов = 10, классы: {0: 2, 1: 8}\u001b[1;37;0m\n",
      "      --> Правая ветка:\n",
      "\u001b[1;32;48m          ЛИСТ: прогноз = 1, объектов = 145, классы: {1: 145}\u001b[1;37;0m\n"
     ]
    }
   ],
   "source": [
    "print_tree(my_tree)"
   ]
  },
  {
   "cell_type": "code",
   "execution_count": 18,
   "id": "d76b4a4a",
   "metadata": {},
   "outputs": [],
   "source": [
    "train_answers = predict(train_data, my_tree)\n",
    "test_answers = predict(test_data, my_tree)"
   ]
  },
  {
   "cell_type": "markdown",
   "id": "9850bf65",
   "metadata": {},
   "source": [
    "Получим следующие метрики accuracy для обучающей и тестовой выборки соответственно:"
   ]
  },
  {
   "cell_type": "code",
   "execution_count": 19,
   "id": "7ba1604d",
   "metadata": {},
   "outputs": [
    {
     "data": {
      "text/plain": [
       "0.9785714285714285"
      ]
     },
     "execution_count": 19,
     "metadata": {},
     "output_type": "execute_result"
    }
   ],
   "source": [
    "accuracy_metric(train_labels, train_answers)"
   ]
  },
  {
   "cell_type": "code",
   "execution_count": 20,
   "id": "8ba36977",
   "metadata": {},
   "outputs": [
    {
     "data": {
      "text/plain": [
       "0.9433333333333334"
      ]
     },
     "execution_count": 20,
     "metadata": {},
     "output_type": "execute_result"
    }
   ],
   "source": [
    "accuracy_metric(test_labels, test_answers)"
   ]
  },
  {
   "cell_type": "markdown",
   "id": "5b2d86db",
   "metadata": {},
   "source": [
    "- А теперь построим дерево решений с тем же минимальным количеством объектов в листе равным 10, но с ограничением глубины дерева равным 3:"
   ]
  },
  {
   "cell_type": "code",
   "execution_count": 21,
   "id": "e5953a54",
   "metadata": {},
   "outputs": [],
   "source": [
    "my_tree_1 = build_tree(train_data, train_labels, min_leaf=10, max_depth=3)"
   ]
  },
  {
   "cell_type": "code",
   "execution_count": 22,
   "id": "8cce303d",
   "metadata": {
    "scrolled": false
   },
   "outputs": [
    {
     "name": "stdout",
     "output_type": "stream",
     "text": [
      "\u001b[1;34;48mУЗЕЛ: индекс = 0, порог = -0.0\u001b[1;37;0m\n",
      "--> Левая ветка:\n",
      "\u001b[1;34;48m   УЗЕЛ: индекс = 1, порог = -1.4\u001b[1;37;0m\n",
      "   --> Левая ветка:\n",
      "\u001b[1;34;48m      УЗЕЛ: индекс = 1, порог = -1.66\u001b[1;37;0m\n",
      "      --> Левая ветка:\n",
      "\u001b[1;32;48m          ЛИСТ: прогноз = 0, объектов = 62, классы: {0: 59, 1: 3}\u001b[1;37;0m\n",
      "      --> Правая ветка:\n",
      "\u001b[1;32;48m          ЛИСТ: прогноз = 1, объектов = 61, классы: {0: 28, 1: 33}\u001b[1;37;0m\n",
      "   --> Правая ветка:\n",
      "\u001b[1;32;48m       ЛИСТ: прогноз = 0, объектов = 211, классы: {0: 211}\u001b[1;37;0m\n",
      "--> Правая ветка:\n",
      "\u001b[1;34;48m   УЗЕЛ: индекс = 1, порог = -1.45\u001b[1;37;0m\n",
      "   --> Левая ветка:\n",
      "\u001b[1;32;48m       ЛИСТ: прогноз = 0, объектов = 37, классы: {0: 37}\u001b[1;37;0m\n",
      "   --> Правая ветка:\n",
      "\u001b[1;34;48m      УЗЕЛ: индекс = 0, порог = 1.2\u001b[1;37;0m\n",
      "      --> Левая ветка:\n",
      "\u001b[1;32;48m          ЛИСТ: прогноз = 1, объектов = 184, классы: {1: 181, 0: 3}\u001b[1;37;0m\n",
      "      --> Правая ветка:\n",
      "\u001b[1;32;48m          ЛИСТ: прогноз = 1, объектов = 145, классы: {1: 145}\u001b[1;37;0m\n"
     ]
    }
   ],
   "source": [
    "print_tree(my_tree_1)"
   ]
  },
  {
   "cell_type": "code",
   "execution_count": 23,
   "id": "4dea08ee",
   "metadata": {},
   "outputs": [],
   "source": [
    "train_answers_1 = predict(train_data, my_tree_1)\n",
    "test_answers_1 = predict(test_data, my_tree_1)"
   ]
  },
  {
   "cell_type": "markdown",
   "id": "e6523206",
   "metadata": {},
   "source": [
    "Получим следующие метрики accuracy для обучающей и тестовой выборки соответственно:"
   ]
  },
  {
   "cell_type": "code",
   "execution_count": 24,
   "id": "9ebcb78b",
   "metadata": {},
   "outputs": [
    {
     "data": {
      "text/plain": [
       "0.9514285714285714"
      ]
     },
     "execution_count": 24,
     "metadata": {},
     "output_type": "execute_result"
    }
   ],
   "source": [
    "accuracy_metric(train_labels, train_answers_1)"
   ]
  },
  {
   "cell_type": "code",
   "execution_count": 25,
   "id": "cec65a89",
   "metadata": {},
   "outputs": [
    {
     "data": {
      "text/plain": [
       "0.94"
      ]
     },
     "execution_count": 25,
     "metadata": {},
     "output_type": "execute_result"
    }
   ],
   "source": [
    "accuracy_metric(test_labels, test_answers_1)"
   ]
  },
  {
   "cell_type": "markdown",
   "id": "f62cc0d8",
   "metadata": {},
   "source": [
    "Как видим, метрики для первого и второго деревьев для тестовой выборки практически не изменилась, а дерево значительно упростилось.\n",
    "___"
   ]
  },
  {
   "cell_type": "markdown",
   "id": "0bf4b022",
   "metadata": {},
   "source": [
    "### Задание №2.\n",
    "Для задачи классификации обучите дерево решений с использованием критериев разбиения Джини и Энтропия. Сравните качество классификации, сделайте выводы."
   ]
  },
  {
   "cell_type": "markdown",
   "id": "c48de1ea",
   "metadata": {},
   "source": [
    "Расширил функционал индексов информативности в первом задании, добавив возможность выбрать тип индекса в функции построения дерева:"
   ]
  },
  {
   "cell_type": "code",
   "execution_count": 26,
   "id": "eeaabad8",
   "metadata": {},
   "outputs": [],
   "source": [
    "my_tree_gini = build_tree(train_data, train_labels, min_leaf=10, inform_index='gini')\n",
    "my_tree_entropy = build_tree(train_data, train_labels, min_leaf=10, inform_index='entropy')"
   ]
  },
  {
   "cell_type": "code",
   "execution_count": 27,
   "id": "789748c4",
   "metadata": {
    "scrolled": true
   },
   "outputs": [
    {
     "name": "stdout",
     "output_type": "stream",
     "text": [
      "\u001b[1;34;48mУЗЕЛ: индекс = 0, порог = -0.0\u001b[1;37;0m\n",
      "--> Левая ветка:\n",
      "\u001b[1;34;48m   УЗЕЛ: индекс = 1, порог = -1.4\u001b[1;37;0m\n",
      "   --> Левая ветка:\n",
      "\u001b[1;34;48m      УЗЕЛ: индекс = 1, порог = -1.66\u001b[1;37;0m\n",
      "      --> Левая ветка:\n",
      "\u001b[1;34;48m         УЗЕЛ: индекс = 0, порог = -0.8\u001b[1;37;0m\n",
      "         --> Левая ветка:\n",
      "\u001b[1;32;48m             ЛИСТ: прогноз = 0, объектов = 10, классы: {0: 7, 1: 3}\u001b[1;37;0m\n",
      "         --> Правая ветка:\n",
      "\u001b[1;32;48m             ЛИСТ: прогноз = 0, объектов = 52, классы: {0: 52}\u001b[1;37;0m\n",
      "      --> Правая ветка:\n",
      "\u001b[1;34;48m         УЗЕЛ: индекс = 0, порог = -0.69\u001b[1;37;0m\n",
      "         --> Левая ветка:\n",
      "\u001b[1;32;48m             ЛИСТ: прогноз = 0, объектов = 13, классы: {0: 13}\u001b[1;37;0m\n",
      "         --> Правая ветка:\n",
      "\u001b[1;34;48m            УЗЕЛ: индекс = 0, порог = -0.4\u001b[1;37;0m\n",
      "            --> Левая ветка:\n",
      "\u001b[1;34;48m               УЗЕЛ: индекс = 1, порог = -1.59\u001b[1;37;0m\n",
      "               --> Левая ветка:\n",
      "\u001b[1;32;48m                   ЛИСТ: прогноз = 1, объектов = 11, классы: {0: 3, 1: 8}\u001b[1;37;0m\n",
      "               --> Правая ветка:\n",
      "\u001b[1;32;48m                   ЛИСТ: прогноз = 0, объектов = 10, классы: {0: 8, 1: 2}\u001b[1;37;0m\n",
      "            --> Правая ветка:\n",
      "\u001b[1;34;48m               УЗЕЛ: индекс = 1, порог = -1.52\u001b[1;37;0m\n",
      "               --> Левая ветка:\n",
      "\u001b[1;32;48m                   ЛИСТ: прогноз = 1, объектов = 10, классы: {0: 3, 1: 7}\u001b[1;37;0m\n",
      "               --> Правая ветка:\n",
      "\u001b[1;32;48m                   ЛИСТ: прогноз = 1, объектов = 17, классы: {1: 16, 0: 1}\u001b[1;37;0m\n",
      "   --> Правая ветка:\n",
      "\u001b[1;32;48m       ЛИСТ: прогноз = 0, объектов = 211, классы: {0: 211}\u001b[1;37;0m\n",
      "--> Правая ветка:\n",
      "\u001b[1;34;48m   УЗЕЛ: индекс = 1, порог = -1.45\u001b[1;37;0m\n",
      "   --> Левая ветка:\n",
      "\u001b[1;32;48m       ЛИСТ: прогноз = 0, объектов = 37, классы: {0: 37}\u001b[1;37;0m\n",
      "   --> Правая ветка:\n",
      "\u001b[1;34;48m      УЗЕЛ: индекс = 0, порог = 1.2\u001b[1;37;0m\n",
      "      --> Левая ветка:\n",
      "\u001b[1;34;48m         УЗЕЛ: индекс = 1, порог = -0.95\u001b[1;37;0m\n",
      "         --> Левая ветка:\n",
      "\u001b[1;34;48m            УЗЕЛ: индекс = 1, порог = -1.06\u001b[1;37;0m\n",
      "            --> Левая ветка:\n",
      "\u001b[1;32;48m                ЛИСТ: прогноз = 1, объектов = 119, классы: {1: 119}\u001b[1;37;0m\n",
      "            --> Правая ветка:\n",
      "\u001b[1;34;48m               УЗЕЛ: индекс = 0, порог = 0.89\u001b[1;37;0m\n",
      "               --> Левая ветка:\n",
      "\u001b[1;32;48m                   ЛИСТ: прогноз = 1, объектов = 10, классы: {0: 1, 1: 9}\u001b[1;37;0m\n",
      "               --> Правая ветка:\n",
      "\u001b[1;32;48m                   ЛИСТ: прогноз = 1, объектов = 45, классы: {1: 45}\u001b[1;37;0m\n",
      "         --> Правая ветка:\n",
      "\u001b[1;32;48m             ЛИСТ: прогноз = 1, объектов = 10, классы: {0: 2, 1: 8}\u001b[1;37;0m\n",
      "      --> Правая ветка:\n",
      "\u001b[1;32;48m          ЛИСТ: прогноз = 1, объектов = 145, классы: {1: 145}\u001b[1;37;0m\n"
     ]
    }
   ],
   "source": [
    "print_tree(my_tree_gini)"
   ]
  },
  {
   "cell_type": "code",
   "execution_count": 28,
   "id": "c76254fc",
   "metadata": {
    "scrolled": true
   },
   "outputs": [
    {
     "name": "stdout",
     "output_type": "stream",
     "text": [
      "\u001b[1;34;48mУЗЕЛ: индекс = 0, порог = -0.0\u001b[1;37;0m\n",
      "--> Левая ветка:\n",
      "\u001b[1;34;48m   УЗЕЛ: индекс = 1, порог = -1.4\u001b[1;37;0m\n",
      "   --> Левая ветка:\n",
      "\u001b[1;34;48m      УЗЕЛ: индекс = 1, порог = -1.66\u001b[1;37;0m\n",
      "      --> Левая ветка:\n",
      "\u001b[1;34;48m         УЗЕЛ: индекс = 0, порог = -0.8\u001b[1;37;0m\n",
      "         --> Левая ветка:\n",
      "\u001b[1;32;48m             ЛИСТ: прогноз = 0, объектов = 10, классы: {0: 7, 1: 3}\u001b[1;37;0m\n",
      "         --> Правая ветка:\n",
      "\u001b[1;32;48m             ЛИСТ: прогноз = 0, объектов = 52, классы: {0: 52}\u001b[1;37;0m\n",
      "      --> Правая ветка:\n",
      "\u001b[1;34;48m         УЗЕЛ: индекс = 0, порог = -0.69\u001b[1;37;0m\n",
      "         --> Левая ветка:\n",
      "\u001b[1;32;48m             ЛИСТ: прогноз = 0, объектов = 13, классы: {0: 13}\u001b[1;37;0m\n",
      "         --> Правая ветка:\n",
      "\u001b[1;34;48m            УЗЕЛ: индекс = 0, порог = -0.4\u001b[1;37;0m\n",
      "            --> Левая ветка:\n",
      "\u001b[1;34;48m               УЗЕЛ: индекс = 1, порог = -1.59\u001b[1;37;0m\n",
      "               --> Левая ветка:\n",
      "\u001b[1;32;48m                   ЛИСТ: прогноз = 1, объектов = 11, классы: {0: 3, 1: 8}\u001b[1;37;0m\n",
      "               --> Правая ветка:\n",
      "\u001b[1;32;48m                   ЛИСТ: прогноз = 0, объектов = 10, классы: {0: 8, 1: 2}\u001b[1;37;0m\n",
      "            --> Правая ветка:\n",
      "\u001b[1;34;48m               УЗЕЛ: индекс = 1, порог = -1.52\u001b[1;37;0m\n",
      "               --> Левая ветка:\n",
      "\u001b[1;32;48m                   ЛИСТ: прогноз = 1, объектов = 10, классы: {0: 3, 1: 7}\u001b[1;37;0m\n",
      "               --> Правая ветка:\n",
      "\u001b[1;32;48m                   ЛИСТ: прогноз = 1, объектов = 17, классы: {1: 16, 0: 1}\u001b[1;37;0m\n",
      "   --> Правая ветка:\n",
      "\u001b[1;32;48m       ЛИСТ: прогноз = 0, объектов = 211, классы: {0: 211}\u001b[1;37;0m\n",
      "--> Правая ветка:\n",
      "\u001b[1;34;48m   УЗЕЛ: индекс = 1, порог = -1.45\u001b[1;37;0m\n",
      "   --> Левая ветка:\n",
      "\u001b[1;32;48m       ЛИСТ: прогноз = 0, объектов = 37, классы: {0: 37}\u001b[1;37;0m\n",
      "   --> Правая ветка:\n",
      "\u001b[1;34;48m      УЗЕЛ: индекс = 0, порог = 1.2\u001b[1;37;0m\n",
      "      --> Левая ветка:\n",
      "\u001b[1;34;48m         УЗЕЛ: индекс = 1, порог = -0.95\u001b[1;37;0m\n",
      "         --> Левая ветка:\n",
      "\u001b[1;34;48m            УЗЕЛ: индекс = 1, порог = -1.06\u001b[1;37;0m\n",
      "            --> Левая ветка:\n",
      "\u001b[1;32;48m                ЛИСТ: прогноз = 1, объектов = 119, классы: {1: 119}\u001b[1;37;0m\n",
      "            --> Правая ветка:\n",
      "\u001b[1;34;48m               УЗЕЛ: индекс = 0, порог = 0.89\u001b[1;37;0m\n",
      "               --> Левая ветка:\n",
      "\u001b[1;32;48m                   ЛИСТ: прогноз = 1, объектов = 10, классы: {0: 1, 1: 9}\u001b[1;37;0m\n",
      "               --> Правая ветка:\n",
      "\u001b[1;32;48m                   ЛИСТ: прогноз = 1, объектов = 45, классы: {1: 45}\u001b[1;37;0m\n",
      "         --> Правая ветка:\n",
      "\u001b[1;32;48m             ЛИСТ: прогноз = 1, объектов = 10, классы: {0: 2, 1: 8}\u001b[1;37;0m\n",
      "      --> Правая ветка:\n",
      "\u001b[1;32;48m          ЛИСТ: прогноз = 1, объектов = 145, классы: {1: 145}\u001b[1;37;0m\n"
     ]
    }
   ],
   "source": [
    "print_tree(my_tree_entropy)"
   ]
  },
  {
   "cell_type": "code",
   "execution_count": 29,
   "id": "51470dea",
   "metadata": {},
   "outputs": [],
   "source": [
    "test_answers_gini = predict(test_data, my_tree_gini)\n",
    "test_answers_entropy = predict(test_data, my_tree_entropy)"
   ]
  },
  {
   "cell_type": "code",
   "execution_count": 30,
   "id": "fbe12796",
   "metadata": {},
   "outputs": [
    {
     "data": {
      "text/plain": [
       "0.9433333333333334"
      ]
     },
     "execution_count": 30,
     "metadata": {},
     "output_type": "execute_result"
    }
   ],
   "source": [
    "accuracy_metric(test_labels, test_answers_gini)"
   ]
  },
  {
   "cell_type": "code",
   "execution_count": 31,
   "id": "08de17ce",
   "metadata": {},
   "outputs": [
    {
     "data": {
      "text/plain": [
       "0.9433333333333334"
      ]
     },
     "execution_count": 31,
     "metadata": {},
     "output_type": "execute_result"
    }
   ],
   "source": [
    "accuracy_metric(test_labels, test_answers_entropy)"
   ]
  },
  {
   "cell_type": "markdown",
   "id": "e2350605",
   "metadata": {},
   "source": [
    "Как видим, на качество классификации индекс информативности при нахождении лучшего разбиения не повлиял."
   ]
  }
 ],
 "metadata": {
  "kernelspec": {
   "display_name": "Python 3",
   "language": "python",
   "name": "python3"
  },
  "language_info": {
   "codemirror_mode": {
    "name": "ipython",
    "version": 3
   },
   "file_extension": ".py",
   "mimetype": "text/x-python",
   "name": "python",
   "nbconvert_exporter": "python",
   "pygments_lexer": "ipython3",
   "version": "3.8.8"
  }
 },
 "nbformat": 4,
 "nbformat_minor": 5
}
