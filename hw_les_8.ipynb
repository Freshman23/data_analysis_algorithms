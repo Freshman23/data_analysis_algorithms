{
 "cells": [
  {
   "cell_type": "markdown",
   "id": "26e29ea3",
   "metadata": {},
   "source": [
    "### Задание №1.\n",
    "Можно ли отобрать наиболее значимые признаки с помощью PCA? Ответ объясните.\n",
    "\n",
    "__Ответ:__ Отобрать наиболее значимые признаки из первоначальных с помощью PCA невозможно, так как метод главных компонент в результате преобразования образует совершенно другую матрицу \"объект-признак\" по значениям не связанную с первоначальной.\n",
    "___"
   ]
  },
  {
   "cell_type": "markdown",
   "id": "0e7d330f",
   "metadata": {},
   "source": [
    "### Задание №2.\n",
    "Написать свою реализацию метода главных компонент с помощью сингулярного разложения с использованием функции numpy.linalg.svd(). Применить к данным на уроке и сравнить ответы."
   ]
  },
  {
   "cell_type": "code",
   "execution_count": 1,
   "id": "80b2f864",
   "metadata": {},
   "outputs": [],
   "source": [
    "import numpy as np\n",
    "from sklearn import datasets\n",
    "from sklearn.model_selection import train_test_split"
   ]
  },
  {
   "cell_type": "code",
   "execution_count": 2,
   "id": "0020f135",
   "metadata": {},
   "outputs": [],
   "source": [
    "def std_scale(x):\n",
    "    x_ = x.copy()\n",
    "    return (x_ - x_.mean(0)) / x_.std(0)"
   ]
  },
  {
   "cell_type": "markdown",
   "id": "d660de28",
   "metadata": {},
   "source": [
    "При сингулярном разложении получаем:\n",
    "$$X=UDV^T,$$\n",
    "где, среди прочих, $D$ - это диагональная матрица, на главной диагонали которой располагаются квадратные корни собственных чисел матрицы $X^TX$ в порядке убывания значений, а $V$ - ортогональная матрица, столбцы которой являются собственными векторами матрицы $X^TX$, соответствующими собственным числам в порядке убывания значений.\n",
    "\n",
    "Тогда для нахождения матрицы весов для метода PCA просто берем первые n столбцов матрицы $X^TX$ и умножаем ее на первоначальную матрицу \"объект-признак\" справа."
   ]
  },
  {
   "cell_type": "code",
   "execution_count": 3,
   "id": "855293f0",
   "metadata": {},
   "outputs": [],
   "source": [
    "def pca(X, n=None, verbose=False):\n",
    "    \n",
    "    # Выполним стандартизацию признаков\n",
    "    X_st = std_scale(X)\n",
    "    \n",
    "    # Найдем собственные значения и векторы из сингулярного разложения\n",
    "    eig_values, eig_vectors =np.linalg.svd(X_st)[1] ** 2, np.linalg.svd(X_st)[2]\n",
    "    \n",
    "    # Посчитаем долю дисперсии, описываемой каждой компонентой\n",
    "    var_exp = eig_values * 100 / eig_values.sum()\n",
    "    cum_var_exp = var_exp.cumsum()\n",
    "    \n",
    "    if verbose:\n",
    "        print(f'Собственные значения:\\n{eig_values}\\n'\n",
    "              f'И соответствующие им собственные векторы:\\n{eig_vectors.T}\\n'\n",
    "              f'Доля дисперсии, описываемой каждой из компонент (%):\\n{var_exp}\\n'\n",
    "              f'Кумулятивная доля дисперсии по компонентам (%):\\n{cum_var_exp}\\n')\n",
    "    \n",
    "    return X_st.dot(eig_vectors[:n].T) if n else X_st.dot(eig_vectors.T)"
   ]
  },
  {
   "cell_type": "code",
   "execution_count": 4,
   "id": "ca472a37",
   "metadata": {},
   "outputs": [],
   "source": [
    "iris = datasets.load_iris()\n",
    "X, y = iris.data, iris.target"
   ]
  },
  {
   "cell_type": "code",
   "execution_count": 5,
   "id": "b59a38f1",
   "metadata": {},
   "outputs": [
    {
     "name": "stdout",
     "output_type": "stream",
     "text": [
      "Собственные значения:\n",
      "[437.77467248 137.10457072  22.01353134   3.10722546]\n",
      "И соответствующие им собственные векторы:\n",
      "[[ 0.52106591 -0.37741762  0.71956635  0.26128628]\n",
      " [-0.26934744 -0.92329566 -0.24438178 -0.12350962]\n",
      " [ 0.5804131  -0.02449161 -0.14212637 -0.80144925]\n",
      " [ 0.56485654 -0.06694199 -0.63427274  0.52359713]]\n",
      "Доля дисперсии, описываемой каждой из компонент (%):\n",
      "[72.96244541 22.85076179  3.66892189  0.51787091]\n",
      "Кумулятивная доля дисперсии по компонентам (%):\n",
      "[ 72.96244541  95.8132072   99.48212909 100.        ]\n",
      "\n"
     ]
    },
    {
     "data": {
      "text/plain": [
       "array([[-2.26470281, -0.4800266 ],\n",
       "       [-2.08096115,  0.67413356],\n",
       "       [-2.36422905,  0.34190802],\n",
       "       [-2.29938422,  0.59739451],\n",
       "       [-2.38984217, -0.64683538],\n",
       "       [-2.07563095, -1.48917752],\n",
       "       [-2.44402884, -0.0476442 ],\n",
       "       [-2.23284716, -0.22314807],\n",
       "       [-2.33464048,  1.11532768],\n",
       "       [-2.18432817,  0.46901356],\n",
       "       [-2.1663101 , -1.04369065],\n",
       "       [-2.32613087, -0.13307834],\n",
       "       [-2.2184509 ,  0.72867617],\n",
       "       [-2.6331007 ,  0.96150673],\n",
       "       [-2.1987406 , -1.86005711],\n",
       "       [-2.26221453, -2.68628449],\n",
       "       [-2.2075877 , -1.48360936],\n",
       "       [-2.19034951, -0.48883832],\n",
       "       [-1.898572  , -1.40501879],\n",
       "       [-2.34336905, -1.12784938],\n",
       "       [-1.914323  , -0.40885571],\n",
       "       [-2.20701284, -0.92412143],\n",
       "       [-2.7743447 , -0.45834367],\n",
       "       [-1.81866953, -0.08555853],\n",
       "       [-2.22716331, -0.13725446],\n",
       "       [-1.95184633,  0.62561859],\n",
       "       [-2.05115137, -0.24216355],\n",
       "       [-2.16857717, -0.52714953],\n",
       "       [-2.13956345, -0.31321781],\n",
       "       [-2.26526149,  0.3377319 ],\n",
       "       [-2.14012214,  0.50454069],\n",
       "       [-1.83159477, -0.42369507],\n",
       "       [-2.61494794, -1.79357586],\n",
       "       [-2.44617739, -2.15072788],\n",
       "       [-2.10997488,  0.46020184],\n",
       "       [-2.2078089 ,  0.2061074 ],\n",
       "       [-2.04514621, -0.66155811],\n",
       "       [-2.52733191, -0.59229277],\n",
       "       [-2.42963258,  0.90418004],\n",
       "       [-2.16971071, -0.26887896],\n",
       "       [-2.28647514, -0.44171539],\n",
       "       [-1.85812246,  2.33741516],\n",
       "       [-2.5536384 ,  0.47910069],\n",
       "       [-1.96444768, -0.47232667],\n",
       "       [-2.13705901, -1.14222926],\n",
       "       [-2.0697443 ,  0.71105273],\n",
       "       [-2.38473317, -1.1204297 ],\n",
       "       [-2.39437631,  0.38624687],\n",
       "       [-2.22944655, -0.99795976],\n",
       "       [-2.20383344, -0.00921636],\n",
       "       [ 1.10178118, -0.86297242],\n",
       "       [ 0.73133743, -0.59461473],\n",
       "       [ 1.24097932, -0.61629765],\n",
       "       [ 0.40748306,  1.75440399],\n",
       "       [ 1.0754747 ,  0.20842105],\n",
       "       [ 0.38868734,  0.59328364],\n",
       "       [ 0.74652974, -0.77301931],\n",
       "       [-0.48732274,  1.85242909],\n",
       "       [ 0.92790164, -0.03222608],\n",
       "       [ 0.01142619,  1.03401828],\n",
       "       [-0.11019628,  2.65407282],\n",
       "       [ 0.44069345,  0.06329519],\n",
       "       [ 0.56210831,  1.76472438],\n",
       "       [ 0.71956189,  0.18622461],\n",
       "       [-0.0333547 ,  0.43900321],\n",
       "       [ 0.87540719, -0.50906396],\n",
       "       [ 0.35025167,  0.19631173],\n",
       "       [ 0.15881005,  0.79209574],\n",
       "       [ 1.22509363,  1.6222438 ],\n",
       "       [ 0.1649179 ,  1.30260923],\n",
       "       [ 0.73768265, -0.39657156],\n",
       "       [ 0.47628719,  0.41732028],\n",
       "       [ 1.2341781 ,  0.93332573],\n",
       "       [ 0.6328582 ,  0.41638772],\n",
       "       [ 0.70266118,  0.06341182],\n",
       "       [ 0.87427365, -0.25079339],\n",
       "       [ 1.25650912,  0.07725602],\n",
       "       [ 1.35840512, -0.33131168],\n",
       "       [ 0.66480037,  0.22592785],\n",
       "       [-0.04025861,  1.05871855],\n",
       "       [ 0.13079518,  1.56227183],\n",
       "       [ 0.02345269,  1.57247559],\n",
       "       [ 0.24153827,  0.77725638],\n",
       "       [ 1.06109461,  0.63384324],\n",
       "       [ 0.22397877,  0.28777351],\n",
       "       [ 0.42913912, -0.84558224],\n",
       "       [ 1.04872805, -0.5220518 ],\n",
       "       [ 1.04453138,  1.38298872],\n",
       "       [ 0.06958832,  0.21950333],\n",
       "       [ 0.28347724,  1.32932464],\n",
       "       [ 0.27907778,  1.12002852],\n",
       "       [ 0.62456979, -0.02492303],\n",
       "       [ 0.33653037,  0.98840402],\n",
       "       [-0.36218338,  2.01923787],\n",
       "       [ 0.28858624,  0.85573032],\n",
       "       [ 0.09136066,  0.18119213],\n",
       "       [ 0.22771687,  0.38492008],\n",
       "       [ 0.57638829,  0.1548736 ],\n",
       "       [-0.44766702,  1.54379203],\n",
       "       [ 0.25673059,  0.5988518 ],\n",
       "       [ 1.84456887, -0.87042131],\n",
       "       [ 1.15788161,  0.69886986],\n",
       "       [ 2.20526679, -0.56201048],\n",
       "       [ 1.44015066,  0.04698759],\n",
       "       [ 1.86781222, -0.29504482],\n",
       "       [ 2.75187334, -0.8004092 ],\n",
       "       [ 0.36701769,  1.56150289],\n",
       "       [ 2.30243944, -0.42006558],\n",
       "       [ 2.00668647,  0.71143865],\n",
       "       [ 2.25977735, -1.92101038],\n",
       "       [ 1.36417549, -0.69275645],\n",
       "       [ 1.60267867,  0.42170045],\n",
       "       [ 1.8839007 , -0.41924965],\n",
       "       [ 1.2601151 ,  1.16226042],\n",
       "       [ 1.4676452 ,  0.44227159],\n",
       "       [ 1.59007732, -0.67624481],\n",
       "       [ 1.47143146, -0.25562182],\n",
       "       [ 2.42632899, -2.55666125],\n",
       "       [ 3.31069558, -0.01778095],\n",
       "       [ 1.26376667,  1.70674538],\n",
       "       [ 2.0377163 , -0.91046741],\n",
       "       [ 0.97798073,  0.57176432],\n",
       "       [ 2.89765149, -0.41364106],\n",
       "       [ 1.33323218,  0.48181122],\n",
       "       [ 1.7007339 , -1.01392187],\n",
       "       [ 1.95432671, -1.0077776 ],\n",
       "       [ 1.17510363,  0.31639447],\n",
       "       [ 1.02095055, -0.06434603],\n",
       "       [ 1.78834992,  0.18736121],\n",
       "       [ 1.86364755, -0.56229073],\n",
       "       [ 2.43595373, -0.25928443],\n",
       "       [ 2.30492772, -2.62632347],\n",
       "       [ 1.86270322,  0.17854949],\n",
       "       [ 1.11414774,  0.29292262],\n",
       "       [ 1.2024733 ,  0.81131527],\n",
       "       [ 2.79877045, -0.85680333],\n",
       "       [ 1.57625591, -1.06858111],\n",
       "       [ 1.3462921 , -0.42243061],\n",
       "       [ 0.92482492, -0.0172231 ],\n",
       "       [ 1.85204505, -0.67612817],\n",
       "       [ 2.01481043, -0.61388564],\n",
       "       [ 1.90178409, -0.68957549],\n",
       "       [ 1.15788161,  0.69886986],\n",
       "       [ 2.04055823, -0.8675206 ],\n",
       "       [ 1.9981471 , -1.04916875],\n",
       "       [ 1.87050329, -0.38696608],\n",
       "       [ 1.56458048,  0.89668681],\n",
       "       [ 1.5211705 , -0.26906914],\n",
       "       [ 1.37278779, -1.01125442],\n",
       "       [ 0.96065603,  0.02433167]])"
      ]
     },
     "execution_count": 5,
     "metadata": {},
     "output_type": "execute_result"
    }
   ],
   "source": [
    "pca(X, 2, verbose=True)"
   ]
  },
  {
   "cell_type": "markdown",
   "id": "4d7e2ee9",
   "metadata": {},
   "source": [
    "___"
   ]
  },
  {
   "cell_type": "markdown",
   "id": "ccda9f79",
   "metadata": {},
   "source": [
    "### Задание №3.\n",
    "Обучить любую модель классификации (из рассмотренных в курсе) на датасете IRIS до применения PCA и после него. Сравнить качество классификации по отложенной выборке."
   ]
  },
  {
   "cell_type": "markdown",
   "id": "b7484078",
   "metadata": {},
   "source": [
    "В качестве модели классификации возьмем одно дерево решений:"
   ]
  },
  {
   "cell_type": "code",
   "execution_count": 6,
   "id": "8851c844",
   "metadata": {},
   "outputs": [],
   "source": [
    "class Node:\n",
    "    \n",
    "    def __init__(self, index, t, true_branch, false_branch):\n",
    "        self.index = index\n",
    "        self.t = t\n",
    "        self.true_branch = true_branch\n",
    "        self.false_branch = false_branch\n",
    "\n",
    "\n",
    "class Leaf:\n",
    "    \n",
    "    def __init__(self, data, labels):\n",
    "        self.data = data\n",
    "        self.labels = labels\n",
    "        self.classes = self.get_classes()\n",
    "        self.prediction = self.predict()\n",
    "    \n",
    "    def get_classes(self):\n",
    "        classes = {}\n",
    "        for label in self.labels:\n",
    "            if label not in classes:\n",
    "                classes[label] = 0\n",
    "            classes[label] += 1\n",
    "        return classes\n",
    "        \n",
    "    def predict(self):    \n",
    "        prediction = max(self.classes, key=self.classes.get)\n",
    "        return prediction\n",
    "\n",
    "\n",
    "def get_inform_index(labels, type_index='gini'):\n",
    "    classes = {}\n",
    "    for label in labels:\n",
    "        if label not in classes:\n",
    "            classes[label] = 0\n",
    "        classes[label] += 1\n",
    "    \n",
    "    if type == 'gini':\n",
    "        impurity = 1\n",
    "        for label in classes:\n",
    "            p = classes[label] / len(labels)\n",
    "            impurity -= p ** 2\n",
    "    else:\n",
    "        impurity = 0\n",
    "        for label in classes:\n",
    "            p = classes[label] / len(labels)\n",
    "            impurity -= p * np.log2(p) \n",
    "        \n",
    "    return impurity\n",
    "\n",
    "\n",
    "def quality(left_labels, right_labels, type_index, current_index):\n",
    "\n",
    "    p = float(left_labels.shape[0]) / (left_labels.shape[0] + right_labels.shape[0])\n",
    "    \n",
    "    return current_index - p * get_inform_index(left_labels, type_index) - (1 - p) * get_inform_index(right_labels, type_index)\n",
    "\n",
    "\n",
    "def split(data, labels, index, t):\n",
    "    \n",
    "    left = np.where(data[:, index] <= t)\n",
    "    right = np.where(data[:, index] > t)\n",
    "        \n",
    "    true_data = data[left]\n",
    "    false_data = data[right]\n",
    "    true_labels = labels[left]\n",
    "    false_labels = labels[right]\n",
    "        \n",
    "    return true_data, false_data, true_labels, false_labels\n",
    "\n",
    "\n",
    "def find_best_split(data, labels, min_leaf, inform_index):\n",
    "    current_index = get_inform_index(labels, inform_index)\n",
    "\n",
    "    best_quality = 0\n",
    "    best_t = None\n",
    "    best_index = None\n",
    "    \n",
    "    n_features = data.shape[1]\n",
    "    \n",
    "    for index in range(n_features):\n",
    "        \n",
    "        t_values = np.unique([row[index] for row in data])\n",
    "        \n",
    "        for t in t_values:\n",
    "            true_data, false_data, true_labels, false_labels = split(data, labels, index, t)\n",
    "            \n",
    "            if len(true_data) < min_leaf or len(false_data) < min_leaf:\n",
    "                continue\n",
    "            \n",
    "            current_quality = quality(true_labels, false_labels, inform_index, current_index)\n",
    "            \n",
    "            if current_quality > best_quality:\n",
    "                best_quality, best_t, best_index = current_quality, t, index\n",
    "\n",
    "    return best_quality, best_t, best_index\n",
    "\n",
    "\n",
    "def build_tree(data, labels, min_leaf=5, max_depth=None, inform_index='gini'):\n",
    "\n",
    "    quality, t, index = find_best_split(data, labels, min_leaf, inform_index)\n",
    "\n",
    "    if quality == 0 or max_depth == 0:\n",
    "        return Leaf(data, labels)\n",
    "\n",
    "    true_data, false_data, true_labels, false_labels = split(data, labels, index, t)\n",
    "\n",
    "    if max_depth:\n",
    "        true_branch = build_tree(true_data, true_labels, min_leaf, max_depth - 1)\n",
    "        false_branch = build_tree(false_data, false_labels, min_leaf, max_depth - 1)\n",
    "    else:\n",
    "        true_branch = build_tree(true_data, true_labels, min_leaf)\n",
    "        false_branch = build_tree(false_data, false_labels, min_leaf)\n",
    "        \n",
    "    return Node(index, t, true_branch, false_branch)\n",
    "\n",
    "\n",
    "def classify_object(obj, node):\n",
    "\n",
    "    if isinstance(node, Leaf):\n",
    "        answer = node.prediction\n",
    "        return answer\n",
    "\n",
    "    if obj[node.index] <= node.t:\n",
    "        return classify_object(obj, node.true_branch)\n",
    "    else:\n",
    "        return classify_object(obj, node.false_branch)\n",
    "\n",
    "\n",
    "def predict(data, tree):\n",
    "    \n",
    "    preds = []\n",
    "    for obj in data:\n",
    "        prediction = classify_object(obj, tree)\n",
    "        preds.append(prediction)\n",
    "    return np.array(preds)\n",
    "\n",
    "\n",
    "def accuracy_metric(real, pred):\n",
    "    return np.sum(real == pred) / real.shape[0]"
   ]
  },
  {
   "cell_type": "markdown",
   "id": "3b81e29c",
   "metadata": {},
   "source": [
    "Понизим размерность данных методом главных компонент до 2 признаков:"
   ]
  },
  {
   "cell_type": "code",
   "execution_count": 7,
   "id": "f36ff4dd",
   "metadata": {},
   "outputs": [],
   "source": [
    "X_pca = pca(X, 2)"
   ]
  },
  {
   "cell_type": "code",
   "execution_count": 8,
   "id": "2a12e258",
   "metadata": {},
   "outputs": [],
   "source": [
    "X_train, X_test, y_train, y_test = train_test_split(X, y, test_size=0.3, random_state=23)\n",
    "X_train_pca, X_test_pca, y_train_pca, y_test_pca = train_test_split(X_pca, y, test_size=0.3, random_state=23)"
   ]
  },
  {
   "cell_type": "markdown",
   "id": "aff7ce3a",
   "metadata": {},
   "source": [
    "Построим деревеья для обоих алгоритмов с оптимальными гиперпараметрами, обучим их и сделаем предсказания на тестовых выборках:"
   ]
  },
  {
   "cell_type": "code",
   "execution_count": 9,
   "id": "9efddaa5",
   "metadata": {},
   "outputs": [],
   "source": [
    "tree = build_tree(X_train, y_train, min_leaf=5, max_depth=None)\n",
    "tree_pca = build_tree(X_train_pca, y_train_pca, min_leaf=1, max_depth=7)"
   ]
  },
  {
   "cell_type": "code",
   "execution_count": 10,
   "id": "2a86fae0",
   "metadata": {},
   "outputs": [],
   "source": [
    "train_answers = predict(X_train, tree)\n",
    "test_answers = predict(X_test, tree)\n",
    "train_answers_pca = predict(X_train_pca, tree_pca)\n",
    "test_answers_pca = predict(X_test_pca, tree_pca)"
   ]
  },
  {
   "cell_type": "markdown",
   "id": "5252a401",
   "metadata": {},
   "source": [
    "Метрики accuracy для обучающей и тестовой выборок соответственно:"
   ]
  },
  {
   "cell_type": "code",
   "execution_count": 11,
   "id": "1d0d8217",
   "metadata": {},
   "outputs": [
    {
     "data": {
      "text/plain": [
       "0.9619047619047619"
      ]
     },
     "execution_count": 11,
     "metadata": {},
     "output_type": "execute_result"
    }
   ],
   "source": [
    "accuracy_metric(y_train, train_answers)"
   ]
  },
  {
   "cell_type": "code",
   "execution_count": 12,
   "id": "1fc1a29a",
   "metadata": {},
   "outputs": [
    {
     "data": {
      "text/plain": [
       "0.9555555555555556"
      ]
     },
     "execution_count": 12,
     "metadata": {},
     "output_type": "execute_result"
    }
   ],
   "source": [
    "accuracy_metric(y_test, test_answers)"
   ]
  },
  {
   "cell_type": "markdown",
   "id": "52e3af6c",
   "metadata": {},
   "source": [
    "Метрики accuracy для обучающей и тестовой выборок соответственно c понижением размерности методом главных компонент:"
   ]
  },
  {
   "cell_type": "code",
   "execution_count": 13,
   "id": "c3dad136",
   "metadata": {},
   "outputs": [
    {
     "data": {
      "text/plain": [
       "0.9904761904761905"
      ]
     },
     "execution_count": 13,
     "metadata": {},
     "output_type": "execute_result"
    }
   ],
   "source": [
    "accuracy_metric(y_train_pca, train_answers_pca)"
   ]
  },
  {
   "cell_type": "code",
   "execution_count": 14,
   "id": "9514a803",
   "metadata": {},
   "outputs": [
    {
     "data": {
      "text/plain": [
       "0.9555555555555556"
      ]
     },
     "execution_count": 14,
     "metadata": {},
     "output_type": "execute_result"
    }
   ],
   "source": [
    "accuracy_metric(y_test_pca, test_answers_pca)"
   ]
  },
  {
   "cell_type": "markdown",
   "id": "dd55dc85",
   "metadata": {},
   "source": [
    "Как видим, в частности, для деревьев решений с понижением размерности данных методом главных копмонент можно подобрать оптимальные гиперпараметры, при которых алгоритм будет выдавать не худшие результаты по сравенению с алгоритмами, обученными на полных данных."
   ]
  }
 ],
 "metadata": {
  "kernelspec": {
   "display_name": "Python 3",
   "language": "python",
   "name": "python3"
  },
  "language_info": {
   "codemirror_mode": {
    "name": "ipython",
    "version": 3
   },
   "file_extension": ".py",
   "mimetype": "text/x-python",
   "name": "python",
   "nbconvert_exporter": "python",
   "pygments_lexer": "ipython3",
   "version": "3.8.8"
  }
 },
 "nbformat": 4,
 "nbformat_minor": 5
}
